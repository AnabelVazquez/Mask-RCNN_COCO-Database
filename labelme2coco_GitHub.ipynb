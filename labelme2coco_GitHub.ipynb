{
 "cells": [
  {
   "cell_type": "markdown",
   "id": "26a3109e",
   "metadata": {},
   "source": [
    "## Labelme2COCO"
   ]
  },
  {
   "cell_type": "code",
   "execution_count": 1,
   "id": "e238e50e",
   "metadata": {},
   "outputs": [],
   "source": [
    "import labelme\n",
    "import cv2\n",
    "import numpy as np\n",
    "import os\n",
    "import labelme2coco\n",
    "import PIL.Image #permite manipular y guardar muchos formatos de imagenes"
   ]
  },
  {
   "cell_type": "code",
   "execution_count": null,
   "id": "70bcf185",
   "metadata": {},
   "outputs": [],
   "source": []
  },
  {
   "cell_type": "code",
   "execution_count": 2,
   "id": "f710a7d4",
   "metadata": {},
   "outputs": [],
   "source": [
    "# import package\n",
    "import labelme2coco\n",
    "\n",
    "# set directory that contains labelme annotations and image files\n",
    "labelme_folder = \"/home/gus/SORCOM/Python2/DatasetTraining\"\n",
    "\n",
    "# set path for coco json to be saved\n",
    "save_json_path = \"/home/gus/SORCOM/Python2/DatasetIzqIzq/COCO_Dataset_IzqIzq.json\"\n",
    "\n",
    "# convert labelme annotations to coco\n",
    "labelme2coco.convert(labelme_folder, save_json_path)"
   ]
  },
  {
   "cell_type": "code",
   "execution_count": null,
   "id": "47536730",
   "metadata": {},
   "outputs": [],
   "source": []
  },
  {
   "cell_type": "code",
   "execution_count": null,
   "id": "44ac8a02",
   "metadata": {},
   "outputs": [],
   "source": []
  },
  {
   "cell_type": "code",
   "execution_count": null,
   "id": "4cf5c493",
   "metadata": {},
   "outputs": [],
   "source": []
  }
 ],
 "metadata": {
  "kernelspec": {
   "display_name": "Python 3 (ipykernel)",
   "language": "python",
   "name": "python3"
  },
  "language_info": {
   "codemirror_mode": {
    "name": "ipython",
    "version": 3
   },
   "file_extension": ".py",
   "mimetype": "text/x-python",
   "name": "python",
   "nbconvert_exporter": "python",
   "pygments_lexer": "ipython3",
   "version": "3.7.11"
  }
 },
 "nbformat": 4,
 "nbformat_minor": 5
}
